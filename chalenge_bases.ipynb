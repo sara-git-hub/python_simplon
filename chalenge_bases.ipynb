{
 "cells": [
  {
   "cell_type": "code",
   "execution_count": null,
   "id": "1bbea69b-9f86-4068-a5ff-161e5fc66765",
   "metadata": {},
   "outputs": [],
   "source": [
    "#challenge 1"
   ]
  },
  {
   "cell_type": "code",
   "execution_count": 15,
   "id": "3011dd8b-4569-4dfd-ae93-35e41fa9a99a",
   "metadata": {},
   "outputs": [
    {
     "name": "stdin",
     "output_type": "stream",
     "text": [
      "saisir prénom sara\n",
      "saisir age 38\n"
     ]
    },
    {
     "name": "stdout",
     "output_type": "stream",
     "text": [
      "Prénom:sara Age:38\n"
     ]
    }
   ],
   "source": [
    "prenom=input(\"saisir prénom\")\n",
    "age=int(input  (\"saisir age\"))\n",
    "print(f\"Prénom:{prenom} Age:{age}\")"
   ]
  },
  {
   "cell_type": "code",
   "execution_count": null,
   "id": "5638d6ac-2603-48de-8ee4-c141d0b5300e",
   "metadata": {},
   "outputs": [],
   "source": [
    "#challenge 2"
   ]
  },
  {
   "cell_type": "code",
   "execution_count": 11,
   "id": "f1429174-e05a-48d2-8ab6-8d2f9831ad1e",
   "metadata": {},
   "outputs": [
    {
     "name": "stdin",
     "output_type": "stream",
     "text": [
      "saisir nom sara\n",
      "saisir salaire horraire 100\n",
      "nombres d'heures 42\n"
     ]
    },
    {
     "name": "stdout",
     "output_type": "stream",
     "text": [
      "sara : 4300.0\n"
     ]
    }
   ],
   "source": [
    "nom=input(\"saisir nom\")\n",
    "salaire_hor=int(input(\"saisir salaire horraire\"))\n",
    "nb_heures=int(input(\"nombres d'heures\"))\n",
    "heures_t=nb_heures\n",
    "heures_sup=0\n",
    "if nb_heures>40:\n",
    "    heures_sup=nb_heures-40\n",
    "    heures_t=40\n",
    "salaire=heures_t*salaire_hor+heures_sup*salaire_hor*1.5\n",
    "print(nom,\":\",salaire)\n"
   ]
  },
  {
   "cell_type": "code",
   "execution_count": null,
   "id": "403b81af-71df-49f1-a322-4babc4bd1c9b",
   "metadata": {},
   "outputs": [],
   "source": [
    "#challenge 3"
   ]
  },
  {
   "cell_type": "code",
   "execution_count": 19,
   "id": "7198d0f4-0608-4593-9858-29522ecd905e",
   "metadata": {},
   "outputs": [
    {
     "name": "stdin",
     "output_type": "stream",
     "text": [
      "saisir nom ll\n",
      "saisir salaire horraire p\n"
     ]
    },
    {
     "name": "stdout",
     "output_type": "stream",
     "text": [
      "Incorrecte\n"
     ]
    }
   ],
   "source": [
    "try:\n",
    "    nom=input(\"saisir nom\")\n",
    "    salaire_hor=float(input(\"saisir salaire horraire\"))\n",
    "    nb_heures=float(input(\"nombres d'heures\"))\n",
    "    heures_t=nb_heures\n",
    "    heures_sup=0\n",
    "    if nb_heures>40:\n",
    "        heures_sup=nb_heures-40\n",
    "        heures_t=40\n",
    "    salaire=heures_t*salaire_hor+heures_sup*salaire_hor*1.5\n",
    "    print(nom,\":\",salaire)\n",
    "    \n",
    "except:\n",
    "    print(\"Incorrecte\")\n"
   ]
  },
  {
   "cell_type": "code",
   "execution_count": null,
   "id": "906f9d5f-db8d-4e69-8f14-41c04babab39",
   "metadata": {},
   "outputs": [],
   "source": [
    "#challenge 4"
   ]
  },
  {
   "cell_type": "code",
   "execution_count": 31,
   "id": "07283825-9e06-45c9-baed-7a0b0bddd6d8",
   "metadata": {},
   "outputs": [
    {
     "name": "stdout",
     "output_type": "stream",
     "text": [
      "nul\n"
     ]
    }
   ],
   "source": [
    "def produit(n1,n2):\n",
    "    p=n1*n2\n",
    "    if p<0:\n",
    "        print(\"négatif\")\n",
    "    elif p>0:\n",
    "        print(\"positif\")\n",
    "    elif p==0:\n",
    "        print(\"nul\")\n",
    "\n",
    "produit(0,3)"
   ]
  },
  {
   "cell_type": "code",
   "execution_count": null,
   "id": "41337399-234c-4898-9858-c824edec634d",
   "metadata": {},
   "outputs": [],
   "source": [
    "#challenge 5"
   ]
  },
  {
   "cell_type": "code",
   "execution_count": 51,
   "id": "54ca576a-c89f-494a-8a59-99b6bb258af4",
   "metadata": {},
   "outputs": [
    {
     "name": "stdin",
     "output_type": "stream",
     "text": [
      "saisir un nombre 2\n"
     ]
    },
    {
     "name": "stdout",
     "output_type": "stream",
     "text": [
      "3\n"
     ]
    }
   ],
   "source": [
    "n=int(input(\"saisir un nombre\"))\n",
    "def somme(n):\n",
    "    s=0\n",
    "    while n>=1:\n",
    "        s+=n\n",
    "        n-=1\n",
    "    return s\n",
    "\n",
    "print(somme(n))\n",
    "        "
   ]
  },
  {
   "cell_type": "code",
   "execution_count": null,
   "id": "6efce88b-8317-4065-a77b-ac3a20159d28",
   "metadata": {},
   "outputs": [],
   "source": [
    "#challenge 6"
   ]
  },
  {
   "cell_type": "code",
   "execution_count": 39,
   "id": "e2215c1a-371b-42e6-92d5-9a2245276d2b",
   "metadata": {},
   "outputs": [
    {
     "name": "stdout",
     "output_type": "stream",
     "text": [
      "IAveD\n"
     ]
    }
   ],
   "source": [
    "def inverser(chaine):\n",
    "    l=len(chaine)-1\n",
    "    chaine_2=\"\"\n",
    "    while l>=0:\n",
    "        chaine_2+=chaine[l]\n",
    "        l-=1\n",
    "    return chaine_2\n",
    "\n",
    "ex=\"DevAI\"\n",
    "print(inverser(ex))"
   ]
  },
  {
   "cell_type": "code",
   "execution_count": 41,
   "id": "1961fe9a-3273-4494-b032-82ec9b95d054",
   "metadata": {},
   "outputs": [],
   "source": [
    "#challenge 6"
   ]
  },
  {
   "cell_type": "code",
   "execution_count": 55,
   "id": "85ece9e8-c150-491c-96c2-f33b67598963",
   "metadata": {},
   "outputs": [
    {
     "data": {
      "text/plain": [
       "1.4142135623730951"
      ]
     },
     "execution_count": 55,
     "metadata": {},
     "output_type": "execute_result"
    }
   ],
   "source": [
    "import math\n",
    "def distance(x1,x2):\n",
    "    return math.sqrt((x1[0]-x2[0])**2+(x1[1]-x2[1])**2)\n",
    "\n",
    "distance([3,2],[2,3])"
   ]
  },
  {
   "cell_type": "code",
   "execution_count": null,
   "id": "e4dfb8e9-a8d4-410b-bdcd-34525d17043f",
   "metadata": {},
   "outputs": [],
   "source": []
  },
  {
   "cell_type": "code",
   "execution_count": null,
   "id": "7bd87dc6-c4ba-4025-853f-a3b48185d035",
   "metadata": {},
   "outputs": [],
   "source": []
  }
 ],
 "metadata": {
  "kernelspec": {
   "display_name": "Python 3 (ipykernel)",
   "language": "python",
   "name": "python3"
  },
  "language_info": {
   "codemirror_mode": {
    "name": "ipython",
    "version": 3
   },
   "file_extension": ".py",
   "mimetype": "text/x-python",
   "name": "python",
   "nbconvert_exporter": "python",
   "pygments_lexer": "ipython3",
   "version": "3.12.4"
  }
 },
 "nbformat": 4,
 "nbformat_minor": 5
}
